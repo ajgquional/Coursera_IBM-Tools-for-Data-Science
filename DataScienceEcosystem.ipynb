{
  "nbformat": 4,
  "nbformat_minor": 0,
  "metadata": {
    "colab": {
      "provenance": [],
      "authorship_tag": "ABX9TyPR7gARrKkzs37QzoETV4m8",
      "include_colab_link": true
    },
    "kernelspec": {
      "name": "python3",
      "display_name": "Python 3"
    },
    "language_info": {
      "name": "python"
    }
  },
  "cells": [
    {
      "cell_type": "markdown",
      "metadata": {
        "id": "view-in-github",
        "colab_type": "text"
      },
      "source": [
        "<a href=\"https://colab.research.google.com/github/ajgquional/Coursera_IBM-Tools-for-Data-Science/blob/main/DataScienceEcosystem.ipynb\" target=\"_parent\"><img src=\"https://colab.research.google.com/assets/colab-badge.svg\" alt=\"Open In Colab\"/></a>"
      ]
    },
    {
      "cell_type": "markdown",
      "source": [
        "<h1>\n",
        "Data Science Tools and Ecosystem\n",
        "</h1>"
      ],
      "metadata": {
        "id": "0X6yxWqT1WRe"
      }
    },
    {
      "cell_type": "markdown",
      "source": [
        "<h2>\n",
        "    Author:\n",
        "</h2>\n",
        "Adrian Josele G. Quional"
      ],
      "metadata": {
        "id": "jZgqlIlR46e8"
      }
    },
    {
      "cell_type": "markdown",
      "source": [
        "In this notebook, Data Science Tools and Ecosystem are summarized."
      ],
      "metadata": {
        "id": "S24subko1i1A"
      }
    },
    {
      "cell_type": "markdown",
      "source": [
        "<b>Objectives:</b>\n",
        "\n",
        "<ul>\n",
        "    <li>List popular languages for Data Science.</li>\n",
        "    <li>List commonly used libraries by Data Scientists.</li>\n",
        "    <li>Practice evaluating arithmetic expressions in Python.</li>\n",
        "</ul>"
      ],
      "metadata": {
        "id": "JnSLVyjZ33yI"
      }
    },
    {
      "cell_type": "markdown",
      "source": [
        "Some of the popular languages that Data Scientists use are:\n",
        "\n",
        "<ol>\n",
        "    <li>Python</li>\n",
        "    <li>R</li>\n",
        "    <li>JavaScript</li>\n",
        "</ol>"
      ],
      "metadata": {
        "id": "_fqrJMR_1qk-"
      }
    },
    {
      "cell_type": "markdown",
      "source": [
        "Some of the commonly used libraries used by Data Scientists include:\n",
        "\n",
        "<ol>\n",
        "    <li>numpy</li>\n",
        "    <li>pandas</li>\n",
        "    <li>matplotlib</li>\n",
        "</ol>"
      ],
      "metadata": {
        "id": "2S7MtcSx16eb"
      }
    },
    {
      "cell_type": "markdown",
      "source": [
        "| Data Science Tools |\n",
        "| -------------------|\n",
        "| Jupyter Notebook   |\n",
        "| JupyterLab         |\n",
        "| Google Colab       |"
      ],
      "metadata": {
        "id": "vBrLMb-p2OnD"
      }
    },
    {
      "cell_type": "markdown",
      "source": [
        "<h3>\n",
        "Below are a few examples of evaluating arithmetic expressions in Python:\n",
        "</h3>"
      ],
      "metadata": {
        "id": "MJOTP9hF3Own"
      }
    },
    {
      "cell_type": "code",
      "execution_count": null,
      "metadata": {
        "colab": {
          "base_uri": "https://localhost:8080/"
        },
        "id": "D5IEiI5d1JiR",
        "outputId": "3bbf9bb7-3b75-4901-f0e3-b103194dccea"
      },
      "outputs": [
        {
          "output_type": "execute_result",
          "data": {
            "text/plain": [
              "17"
            ]
          },
          "metadata": {},
          "execution_count": 1
        }
      ],
      "source": [
        "# This a simple arithmetic expression to mutiply then add integers\n",
        "\n",
        "(3 * 4) + 5"
      ]
    },
    {
      "cell_type": "code",
      "source": [
        "# This will convert 200 minutes to hours by diving by 60\n",
        "\n",
        "200 * (1 / 60)"
      ],
      "metadata": {
        "colab": {
          "base_uri": "https://localhost:8080/"
        },
        "id": "qzaSOcjH3gd-",
        "outputId": "d1a75c8b-2054-428a-9f3d-76b58e4213c4"
      },
      "execution_count": null,
      "outputs": [
        {
          "output_type": "execute_result",
          "data": {
            "text/plain": [
              "3.3333333333333335"
            ]
          },
          "metadata": {},
          "execution_count": 2
        }
      ]
    },
    {
      "cell_type": "code",
      "source": [],
      "metadata": {
        "id": "TQnTtUG93s4s"
      },
      "execution_count": null,
      "outputs": []
    }
  ]
}